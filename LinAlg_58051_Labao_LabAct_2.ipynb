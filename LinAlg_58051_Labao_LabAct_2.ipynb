{
  "nbformat": 4,
  "nbformat_minor": 0,
  "metadata": {
    "colab": {
      "name": "LinAlg 58051 Labao - LabAct 2.ipynb",
      "provenance": [],
      "collapsed_sections": [],
      "authorship_tag": "ABX9TyNlmMIDSgg/nnE1SULPMF2U",
      "include_colab_link": true
    },
    "kernelspec": {
      "name": "python3",
      "display_name": "Python 3"
    }
  },
  "cells": [
    {
      "cell_type": "markdown",
      "metadata": {
        "id": "view-in-github",
        "colab_type": "text"
      },
      "source": [
        "<a href=\"https://colab.research.google.com/github/giovincentlabaoadamson/linearAlgebra2021/blob/main/LinAlg_58051_Labao_LabAct_2.ipynb\" target=\"_parent\"><img src=\"https://colab.research.google.com/assets/colab-badge.svg\" alt=\"Open In Colab\"/></a>"
      ]
    },
    {
      "cell_type": "markdown",
      "metadata": {
        "id": "y-y3hw2Rb77W"
      },
      "source": [
        "# **Vectors:**"
      ]
    },
    {
      "cell_type": "markdown",
      "metadata": {
        "id": "mCMW8Si-a0Oo"
      },
      "source": [
        "$$ A = 3\\hat{x} + 2\\hat{y} \\\\\r\n",
        "B = 6\\hat{x} - 4\\hat{y}\\\\ \r\n",
        "C = 2\\hat{x} + 7\\hat{y} \\\\\r\n",
        "D = 8\\hat{x} - 5\\hat{y}\\\\\r\n",
        "E = 9\\hat{x} + 2\\hat{y}$$\r\n"
      ]
    },
    {
      "cell_type": "markdown",
      "metadata": {
        "id": "hu5N0xapcDFR"
      },
      "source": [
        "**Matrix Equivalent:**"
      ]
    },
    {
      "cell_type": "markdown",
      "metadata": {
        "id": "-iy8Yq_QcX7y"
      },
      "source": [
        "$$\r\n",
        "A =  \\begin{bmatrix} 3 \\\\ 2\\end{bmatrix}, \r\n",
        "B =  \\begin{bmatrix} 6 \\\\ -4\\end{bmatrix}, \r\n",
        "C =  \\begin{bmatrix} 2 \\\\ 7\\end{bmatrix},\r\n",
        "D =  \\begin{bmatrix} 8 \\\\ -5\\end{bmatrix},\r\n",
        "E =  \\begin{bmatrix} 9 \\\\ 2\\end{bmatrix}\\\\\r\n",
        "\r\n",
        "A = \\begin{bmatrix} 3 & 2\\end{bmatrix} \\\\\r\n",
        "B = \\begin{bmatrix} 6 & -4\\end{bmatrix} \\\\\r\n",
        "C = \\begin{bmatrix} 2 & 7\\end{bmatrix} \\\\\r\n",
        "D = \\begin{bmatrix} 8 & -5\\end{bmatrix} \\\\\r\n",
        "E = \\begin{bmatrix} 9 & 2\\end{bmatrix} \\\\\r\n",
        "$$"
      ]
    },
    {
      "cell_type": "code",
      "metadata": {
        "id": "7VoYSy7PazN9",
        "colab": {
          "base_uri": "https://localhost:8080/"
        },
        "outputId": "acc8058e-0528-40cf-b208-7fdfb5db476e"
      },
      "source": [
        "import numpy as np\r\n",
        "import matplotlib.pyplot as plt\r\n",
        "\r\n",
        "\r\n",
        "\r\n",
        "A = np.array([3,2])\r\n",
        "B = np.array([6,-4])\r\n",
        "C = np.array([2,7])\r\n",
        "D = np.array([8,-5])\r\n",
        "E = np.array([9,2])\r\n",
        "\r\n",
        "print ('Vector A is ',A)\r\n",
        "print ('Vector B is ',B)\r\n",
        "print ('Vector C is ',C)\r\n",
        "print ('Vector D is ',D)\r\n",
        "print ('Vector E is ',E)"
      ],
      "execution_count": 11,
      "outputs": [
        {
          "output_type": "stream",
          "text": [
            "Vector A is  [3 2]\n",
            "Vector B is  [ 6 -4]\n",
            "Vector C is  [2 7]\n",
            "Vector D is  [ 8 -5]\n",
            "Vector E is  [9 2]\n"
          ],
          "name": "stdout"
        }
      ]
    },
    {
      "cell_type": "markdown",
      "metadata": {
        "id": "iuMEZQRHtRoG"
      },
      "source": [
        "**Addition & Subtraction**"
      ]
    },
    {
      "cell_type": "code",
      "metadata": {
        "colab": {
          "base_uri": "https://localhost:8080/",
          "height": 320
        },
        "id": "CgNC_6FvrxGo",
        "outputId": "2ee8cf61-fd55-4268-d5d5-e76a69eec059"
      },
      "source": [
        "R1 = np.add(A,B)\r\n",
        "R2 = np.add(C,D)\r\n",
        "R3 = np.subtract(R1,R2)\r\n",
        "print ('The R1 is ',R1)\r\n",
        "print ('The R2 is ',R2)\r\n",
        "print ('The R3 is ',R3)\r\n",
        "\r\n",
        "plt.xlim(-20,20)\r\n",
        "plt.ylim(-20,20)\r\n",
        "plt.quiver(0,0, R1[0], R1[1],label = 'R1', angles='xy', scale_units='xy',scale=1, color='red') \r\n",
        "plt.quiver(R1[0], R1[1], R2[0], R2[1],label = 'R2', angles='xy', scale_units='xy',scale=1, color='blue')\r\n",
        "# plt.quiver(0,0, C[0], C[1],label = 'C', angles='xy', scale_units='xy',scale=1, color='yellow') \r\n",
        "# plt.quiver(C[0], C[1], D[0], D[1],label = 'D',angles='xy', scale_units='xy',scale=1, color='purple')\r\n",
        "plt.quiver(0,0, R3[0], R3[1],label = 'R3', angles='xy', scale_units='xy',scale=1, color='green')\r\n",
        "plt.grid()\r\n",
        "plt.legend()\r\n",
        "plt.show()"
      ],
      "execution_count": null,
      "outputs": [
        {
          "output_type": "stream",
          "text": [
            "The R1 is  [ 9 -2]\n",
            "The R2 is  [10  2]\n",
            "The R3 is  [-1 -4]\n"
          ],
          "name": "stdout"
        },
        {
          "output_type": "display_data",
          "data": {
            "image/png": "[encoded data removed]",
            "text/plain": [
              "<Figure size 432x288 with 1 Axes>"
            ]
          },
          "metadata": {
            "tags": [],
            "needs_background": "light"
          }
        }
      ]
    },
    {
      "cell_type": "markdown",
      "metadata": {
        "id": "v6bJKeeZvZ6A"
      },
      "source": [
        "**Multiplication & Division**"
      ]
    },
    {
      "cell_type": "code",
      "metadata": {
        "colab": {
          "base_uri": "https://localhost:8080/",
          "height": 320
        },
        "id": "jdthzlrevc0h",
        "outputId": "dd9e469f-e137-4eaa-f378-6d4072b17f4b"
      },
      "source": [
        "R4 = np.multiply(E,A)\r\n",
        "R5 = np.multiply(B,D)\r\n",
        "R6 = np.divide(R4,R5)\r\n",
        "print ('The R4 is ',R4)\r\n",
        "print ('The R5 is ',R5)\r\n",
        "print ('The R6 is ',R6)\r\n",
        "\r\n",
        "plt.xlim(-100,100)\r\n",
        "plt.ylim(-100,100)\r\n",
        "plt.quiver(0,0, R4[0], R4[1],label = 'R4', angles='xy', scale_units='xy',scale=1, color='red') \r\n",
        "plt.quiver(R4[0], R4[1], R5[0], R5[1],label = 'R5',angles='xy', scale_units='xy',scale=1, color='blue')\r\n",
        "plt.quiver(0,0, R6[0], R6[1],label = 'R6', angles='xy', scale_units='xy',scale=1, color='green')\r\n",
        "plt.legend()\r\n",
        "plt.grid()\r\n",
        "plt.show()"
      ],
      "execution_count": 7,
      "outputs": [
        {
          "output_type": "stream",
          "text": [
            "The R4 is  [27  4]\n",
            "The R5 is  [48 20]\n",
            "The R6 is  [0.5625 0.2   ]\n"
          ],
          "name": "stdout"
        },
        {
          "output_type": "display_data",
          "data": {
            "image/png": "[encoded data removed]",
            "text/plain": [
              "<Figure size 432x288 with 1 Axes>"
            ]
          },
          "metadata": {
            "tags": [],
            "needs_background": "light"
          }
        }
      ]
    },
    {
      "cell_type": "markdown",
      "metadata": {
        "id": "Ox-1aJVM0YAQ"
      },
      "source": [
        "Squaring,Square Root & Summation"
      ]
    },
    {
      "cell_type": "code",
      "metadata": {
        "colab": {
          "base_uri": "https://localhost:8080/"
        },
        "id": "A_VBJtCC0ibD",
        "outputId": "ea3d98cb-179a-41a0-9333-fbe6dbb581a8"
      },
      "source": [
        "A = np.array([3,2])\r\n",
        "D = np.array([8,-5])\r\n",
        "R7 = np.sqrt(np.sum(A**2 + D**2))\r\n",
        "print ('The result is',R7)\r\n",
        "\r\n"
      ],
      "execution_count": 12,
      "outputs": [
        {
          "output_type": "stream",
          "text": [
            "The result is 10.099504938362077\n"
          ],
          "name": "stdout"
        }
      ]
    }
  ]
}