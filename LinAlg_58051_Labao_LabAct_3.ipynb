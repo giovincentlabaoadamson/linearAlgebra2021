{
  "nbformat": 4,
  "nbformat_minor": 0,
  "metadata": {
    "colab": {
      "name": "LinAlg 58051 Labao - LabAct 3",
      "provenance": [],
      "collapsed_sections": [],
      "authorship_tag": "ABX9TyNr9XTi3HDS8p5QAxwYkPVj",
      "include_colab_link": true
    },
    "kernelspec": {
      "name": "python3",
      "display_name": "Python 3"
    }
  },
  "cells": [
    {
      "cell_type": "markdown",
      "metadata": {
        "id": "view-in-github",
        "colab_type": "text"
      },
      "source": [
        "<a href=\"https://colab.research.google.com/github/giovincentlabaoadamson/linearAlgebra2021/blob/main/LinAlg_58051_Labao_LabAct_3.ipynb\" target=\"_parent\"><img src=\"https://colab.research.google.com/assets/colab-badge.svg\" alt=\"Open In Colab\"/></a>"
      ]
    },
    {
      "cell_type": "markdown",
      "metadata": {
        "id": "yzFE8XNzr831"
      },
      "source": [
        "$$ A = 3\\hat{x} + 2\\hat{y} \\\\\r\n",
        "B = 6\\hat{x} - 4\\hat{y}\\\\ \r\n",
        "C = 2\\hat{x} + 7\\hat{y} \\\\\r\n",
        "D = 8\\hat{x} - 5\\hat{y}\\\\\r\n",
        "E = 9\\hat{x} + 2\\hat{y}$$"
      ]
    },
    {
      "cell_type": "markdown",
      "metadata": {
        "id": "cJEjJ4ggtUoB"
      },
      "source": [
        "$$\r\n",
        "A =  \\begin{bmatrix} 3 \\\\ 2\\end{bmatrix}, \r\n",
        "B =  \\begin{bmatrix} 6 \\\\ -4\\end{bmatrix}, \r\n",
        "C =  \\begin{bmatrix} 2 \\\\ 7\\end{bmatrix},\r\n",
        "D =  \\begin{bmatrix} 8 \\\\ -5\\end{bmatrix},\r\n",
        "E =  \\begin{bmatrix} 9 \\\\ 2\\end{bmatrix}\\\\\r\n",
        "$$"
      ]
    },
    {
      "cell_type": "code",
      "metadata": {
        "id": "dINvhaTvtV3Y"
      },
      "source": [
        "import numpy as np\r\n",
        "import matplotlib.pyplot as plt\r\n"
      ],
      "execution_count": 4,
      "outputs": []
    },
    {
      "cell_type": "code",
      "metadata": {
        "id": "CdR3Ao4WtaWf"
      },
      "source": [
        "A = np.array([3,2])\r\n",
        "B = np.array([6,-4])\r\n",
        "C = np.array([2,7])\r\n",
        "D = np.array([8,-5])\r\n",
        "E = np.array([9,2])"
      ],
      "execution_count": 5,
      "outputs": []
    },
    {
      "cell_type": "code",
      "metadata": {
        "colab": {
          "base_uri": "https://localhost:8080/"
        },
        "id": "WzU_kTR1uONx",
        "outputId": "5bf7df56-28a1-4650-be9c-80fd11c05548"
      },
      "source": [
        "print (A,B,C,D,E)"
      ],
      "execution_count": 6,
      "outputs": [
        {
          "output_type": "stream",
          "text": [
            "[3 2] [ 6 -4] [2 7] [ 8 -5] [9 2]\n"
          ],
          "name": "stdout"
        }
      ]
    },
    {
      "cell_type": "markdown",
      "metadata": {
        "id": "eETm0StDvWst"
      },
      "source": [
        "### **Task 1**"
      ]
    },
    {
      "cell_type": "markdown",
      "metadata": {
        "id": "PbLhbdrruWpU"
      },
      "source": [
        "$$\r\n",
        "A = c\\cdot \\begin{bmatrix} 3\\\\2 \\\\\\end{bmatrix}\\\\\r\n",
        "B = c\\cdot \\begin{bmatrix} 6\\\\-4 \\\\\\end{bmatrix}\\\\\r\n",
        "C = c\\cdot \\begin{bmatrix} 2\\\\7 \\\\\\end{bmatrix}\\\\ $$"
      ]
    },
    {
      "cell_type": "code",
      "metadata": {
        "colab": {
          "base_uri": "https://localhost:8080/",
          "height": 269
        },
        "id": "YLqmrZ0IuuRA",
        "outputId": "488ca643-90dd-4734-95af-c3634eaf043d"
      },
      "source": [
        "c = np.arange(-20,20,0.25)\r\n",
        "plt.scatter(c*A[0],c*A[1], color= 'blue')\r\n",
        "plt.scatter(c*B[0],c*B[1], color= 'orange')\r\n",
        "plt.scatter(c*C[0],c*C[1], color= 'green')\r\n",
        "\r\n",
        "plt.xlim(-20,20)\r\n",
        "plt.ylim(-20,20)\r\n",
        "plt.axhline(y=0, color='Black')\r\n",
        "plt.axvline(x=0, color='Black')\r\n",
        "plt.grid()\r\n",
        "plt.show()"
      ],
      "execution_count": 9,
      "outputs": [
        {
          "output_type": "display_data",
          "data": {
            "image/png": "[encoded data removed]",
            "text/plain": [
              "<Figure size 432x288 with 1 Axes>"
            ]
          },
          "metadata": {
            "tags": [],
            "needs_background": "light"
          }
        }
      ]
    },
    {
      "cell_type": "markdown",
      "metadata": {
        "id": "RN90-8qIxalo"
      },
      "source": [
        "### **Task 2**"
      ]
    },
    {
      "cell_type": "markdown",
      "metadata": {
        "id": "5XU3lo12xsgP"
      },
      "source": [
        "$$\r\n",
        "R = \\begin{Bmatrix} c_1 \\cdot\\begin{bmatrix} 8\\\\-5 \\\\\\end{bmatrix}, \r\n",
        "c_2 \\cdot \\begin{bmatrix} 9\\\\2 \\\\\\end{bmatrix}\\end{Bmatrix} \r\n",
        "$$"
      ]
    },
    {
      "cell_type": "code",
      "metadata": {
        "colab": {
          "base_uri": "https://localhost:8080/",
          "height": 265
        },
        "id": "E2g_USATxfS2",
        "outputId": "fbb175b5-49f6-4cfe-f5ea-cc9b5920f4af"
      },
      "source": [
        "R = np.arange(-5,5,0.25)\r\n",
        "\r\n",
        "c1, c2= np.meshgrid(R,R)\r\n",
        "R = D + E\r\n",
        "spanSx = c1*D[0] + c1*E[1]\r\n",
        "spanSy = c2*D[0] + c2*E[1]\r\n",
        "plt.scatter(spanSx,spanSy, s=5, alpha=.75)\r\n",
        "\r\n",
        "plt.xlim(-50,50)\r\n",
        "plt.ylim(-50,50)\r\n",
        "plt.axhline(y=0, color='Black')\r\n",
        "plt.axvline(x=0, color='Black')\r\n",
        "plt.grid()\r\n",
        "plt.show()"
      ],
      "execution_count": 14,
      "outputs": [
        {
          "output_type": "display_data",
          "data": {
            "image/png": "[encoded data removed]",
            "text/plain": [
              "<Figure size 432x288 with 1 Axes>"
            ]
          },
          "metadata": {
            "tags": [],
            "needs_background": "light"
          }
        }
      ]
    },
    {
      "cell_type": "markdown",
      "metadata": {
        "id": "hKBm39vhy3Mf"
      },
      "source": [
        "$$\r\n",
        "H = \\begin{Bmatrix} c_1 \\cdot\\begin{bmatrix} 8\\\\5\\\\3 \\\\\\end{bmatrix}, \r\n",
        "c_2 \\cdot \\begin{bmatrix} 9\\\\2\\\\6 \\\\\\end{bmatrix}\\end{Bmatrix} \r\n",
        "$$"
      ]
    },
    {
      "cell_type": "code",
      "metadata": {
        "colab": {
          "base_uri": "https://localhost:8080/",
          "height": 269
        },
        "id": "qlMC5ZoKzCt-",
        "outputId": "5e59141a-d040-4a1e-d85d-73cf0cf5fff3"
      },
      "source": [
        "F = np.array([8,5,3])\r\n",
        "G = np.array([9,2,6])\r\n",
        "\r\n",
        "H = np.arange(-5,5,0.50)\r\n",
        "\r\n",
        "c2, c1 = np.meshgrid(H,H)\r\n",
        "R1 = F + G\r\n",
        "spanHx = c1*F[0] + c2*G[0]\r\n",
        "spanHy = c1*F[1] + c2*G[1]\r\n",
        "plt.scatter(spanHx,spanHy, s=5, alpha=1)\r\n",
        "\r\n",
        "plt.xlim(-20,20)\r\n",
        "plt.ylim(-20,20)\r\n",
        "plt.axhline(y=0, color='Black')\r\n",
        "plt.axvline(x=0, color='Black')\r\n",
        "plt.grid()\r\n",
        "plt.show()"
      ],
      "execution_count": 22,
      "outputs": [
        {
          "output_type": "display_data",
          "data": {
            "image/png": "[encoded data removed]",
            "text/plain": [
              "<Figure size 432x288 with 1 Axes>"
            ]
          },
          "metadata": {
            "tags": [],
            "needs_background": "light"
          }
        }
      ]
    },
    {
      "cell_type": "markdown",
      "metadata": {
        "id": "v21n3fNf0JW3"
      },
      "source": [
        "$$\r\n",
        "I = \\begin{Bmatrix} c_1 \\cdot\\begin{bmatrix} 3\\\\2\\\\6\\\\4 \\\\\\end{bmatrix}, \r\n",
        "c_2 \\cdot \\begin{bmatrix} 2\\\\4\\\\7\\\\5 \\\\\\end{bmatrix}\\end{Bmatrix} \r\n",
        "$$"
      ]
    },
    {
      "cell_type": "code",
      "metadata": {
        "colab": {
          "base_uri": "https://localhost:8080/",
          "height": 282
        },
        "id": "q52D_rHa0UGl",
        "outputId": "9a79aca1-35dc-4ac6-8650-493fbf56c4aa"
      },
      "source": [
        "J =  np.array([3,2,6,4])\r\n",
        "K =  np.array([2,4,7,5])\r\n",
        "\r\n",
        "I= np.arange(-5,5,0.50)\r\n",
        "\r\n",
        "c2, c1 = np.meshgrid(I,I)\r\n",
        "R2 = J+K\r\n",
        "spanIx = c1*J[0] + c2*K[0]\r\n",
        "spanIy= c1*J[1] + c2*K[1]\r\n",
        "plt.scatter(spanIx,spanIy, s=5, alpha=1)"
      ],
      "execution_count": 24,
      "outputs": [
        {
          "output_type": "execute_result",
          "data": {
            "text/plain": [
              "<matplotlib.collections.PathCollection at 0x7fae359736d0>"
            ]
          },
          "metadata": {
            "tags": []
          },
          "execution_count": 24
        },
        {
          "output_type": "display_data",
          "data": {
            "image/png": "[encoded data removed]",
            "text/plain": [
              "<Figure size 432x288 with 1 Axes>"
            ]
          },
          "metadata": {
            "tags": [],
            "needs_background": "light"
          }
        }
      ]
    }
  ]
}