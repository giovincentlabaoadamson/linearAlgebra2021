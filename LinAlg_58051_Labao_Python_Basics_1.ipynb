{
  "nbformat": 4,
  "nbformat_minor": 0,
  "metadata": {
    "colab": {
      "name": "LinAlg 58051 Labao - Python Basics 1.ipynb",
      "provenance": [],
      "collapsed_sections": [],
      "authorship_tag": "ABX9TyOaIj0JVFWS4nnr5d5V95yJ",
      "include_colab_link": true
    },
    "kernelspec": {
      "name": "python3",
      "display_name": "Python 3"
    }
  },
  "cells": [
    {
      "cell_type": "markdown",
      "metadata": {
        "id": "view-in-github",
        "colab_type": "text"
      },
      "source": [
        "<a href=\"https://colab.research.google.com/github/giovincentlabaoadamson/linearAlgebra2021/blob/main/LinAlg_58051_Labao_Python_Basics_1.ipynb\" target=\"_parent\"><img src=\"https://colab.research.google.com/assets/colab-badge.svg\" alt=\"Open In Colab\"/></a>"
      ]
    },
    {
      "cell_type": "markdown",
      "metadata": {
        "id": "j1ImC-YBu8HH"
      },
      "source": [
        "# Fundamentals of Python\r\n"
      ]
    },
    {
      "cell_type": "code",
      "metadata": {
        "id": "I66sVWAioFAT"
      },
      "source": [
        ""
      ],
      "execution_count": null,
      "outputs": []
    },
    {
      "cell_type": "code",
      "metadata": {
        "colab": {
          "base_uri": "https://localhost:8080/"
        },
        "id": "O3JGexDikCUq",
        "outputId": "a680e587-66a6-421b-e29d-fc7f6d29889c"
      },
      "source": [
        "semestral_grade = float(0)\r\n",
        "prelim = float(0)\r\n",
        "midterm = float(0)\r\n",
        "finals = float(0)\r\n",
        "name = str(input(\"Student Name: \"))\r\n",
        "course = str(input(\"Student Course: \"))\r\n",
        "prelim_grade = float(input(\"Prelim Grade:\"))\r\n",
        "midterm_grade = float(input(\"Midterm Grade:\"))\r\n",
        "finals_grade = float(input(\"Finals Grade:\"))\r\n",
        "\r\n",
        "prelim = 0.30*prelim_grade\r\n",
        "midterm = 0.30*midterm_grade\r\n",
        "finals = 0.40*finals_grade\r\n",
        "\r\n",
        "semestral_grade = (prelim + midterm + finals)\r\n",
        "\r\n",
        "if (semestral_grade > 70.00):\r\n",
        "  print(\"Semestral Grade: \"+\"{:.2f}\".format(semestral_grade),\"Good Job!\",\"\\U0001F600\") \r\n",
        "  \r\n",
        "if (semestral_grade == 70.00):\r\n",
        "  print(\"Semestral Grade:\"+\"{:.2f}\".format(semestral_grade),\"Passed\",\"\\U0001F606\") \r\n",
        "  \r\n",
        "\r\n",
        "if (semestral_grade < 70.00):\r\n",
        "  print(\"Semestral Grade:\"+\"{:.2f}\".format(semestral_grade),\"Failed\",\"\\U0001F62D\") \r\n",
        "  \r\n",
        "              "
      ],
      "execution_count": null,
      "outputs": [
        {
          "output_type": "stream",
          "text": [
            "Student Name: JOHN\n",
            "Student Course: BSCPE\n",
            "Prelim Grade:90.82\n",
            "Midterm Grade:85.65\n",
            "Finals Grade:87.65\n",
            "Semestral Grade: 88.00 Good Job! 😀\n"
          ],
          "name": "stdout"
        }
      ]
    }
  ]
}