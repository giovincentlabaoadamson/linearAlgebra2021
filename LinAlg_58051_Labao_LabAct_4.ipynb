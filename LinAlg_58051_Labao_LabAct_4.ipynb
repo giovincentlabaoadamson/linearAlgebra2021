{
  "nbformat": 4,
  "nbformat_minor": 0,
  "metadata": {
    "colab": {
      "name": "LinAlg_58051_Labao_LabAct_4",
      "provenance": [],
      "collapsed_sections": [],
      "include_colab_link": true
    },
    "kernelspec": {
      "name": "python3",
      "display_name": "Python 3"
    }
  },
  "cells": [
    {
      "cell_type": "markdown",
      "metadata": {
        "id": "view-in-github",
        "colab_type": "text"
      },
      "source": [
        "<a href=\"https://colab.research.google.com/github/giovincentlabaoadamson/linearAlgebra2021/blob/main/LinAlg_58051_Labao_LabAct_4.ipynb\" target=\"_parent\"><img src=\"https://colab.research.google.com/assets/colab-badge.svg\" alt=\"Open In Colab\"/></a>"
      ]
    },
    {
      "cell_type": "code",
      "metadata": {
        "id": "PC5JYIz8k5Yd"
      },
      "source": [
        "import numpy as np\r\n",
        "import math \r\n",
        "import matplotlib.pyplot as plt\r\n"
      ],
      "execution_count": null,
      "outputs": []
    },
    {
      "cell_type": "markdown",
      "metadata": {
        "id": "-EvxQhLhkcSZ"
      },
      "source": [
        "###Task 1"
      ]
    },
    {
      "cell_type": "markdown",
      "metadata": {
        "id": "DG0uBXb0kgkE"
      },
      "source": [
        "Make an explicit function (not using any of NumPy's preset functions) solving the modulus of a vector using the Euclidian Norm formula: \r\n",
        "$$||X|| = \\sqrt{\\sum_{n=1}^{N}x_n^2}$$\r\n",
        "Create a program flowchart for your algorithm and explain it in your methodology. Create 6 different vectors which their element count should not be lower than 4 elements. Explain the results at the results discussion section while comparing them to the `np.linalg.norm()` function."
      ]
    },
    {
      "cell_type": "code",
      "metadata": {
        "id": "6HoLk0WgkHI-"
      },
      "source": [
        "V1 = np.array([3,2,-3,-2])\r\n",
        "V2 = np.array([6,-4,-6,4])\r\n",
        "V3 = np.array([2,7,-2,-7])\r\n",
        "V4 = np.array([8,-5,-8,5])\r\n",
        "V5 = np.array([9,2,-9,-2])\r\n",
        "V6 = np.array([8,5,3,-9])"
      ],
      "execution_count": null,
      "outputs": []
    },
    {
      "cell_type": "code",
      "metadata": {
        "colab": {
          "base_uri": "https://localhost:8080/"
        },
        "id": "0mhMlF175O7s",
        "outputId": "e00a7bef-8ee0-441c-ce93-51512a432502"
      },
      "source": [
        "mmagn1 = math.sqrt(math.pow(V1[0],2) + math.pow(V1[1],2) + math.pow(V1[2],2) + math.pow(V1[3],2))\r\n",
        "\r\n",
        "mmagn2 = math.sqrt(math.pow(V2[0],2) + math.pow(V2[1],2) + math.pow(V2[2],2) + math.pow(V2[3],2))\r\n",
        "\r\n",
        "mmagn3 = math.sqrt(math.pow(V3[0],2) + math.pow(V3[1],2) + math.pow(V3[2],2) + math.pow(V3[3],2))\r\n",
        "\r\n",
        "mmagn4 = math.sqrt(math.pow(V4[0],2) + math.pow(V4[1],2) + math.pow(V4[2],2) + math.pow(V4[3],2))\r\n",
        "\r\n",
        "mmagn5 = math.sqrt(math.pow(V5[0],2) + math.pow(V5[1],2) + math.pow(V5[2],2) + math.pow(V5[3],2))\r\n",
        "\r\n",
        "mmagn6 = math.sqrt(math.pow(V6[0],2) + math.pow(V6[1],2) + math.pow(V6[2],2) + math.pow(V6[3],2))\r\n",
        "\r\n",
        "print(\"Using Math Library:\")\r\n",
        "print(mmagn1)\r\n",
        "print(mmagn2)\r\n",
        "print(mmagn3)\r\n",
        "print(mmagn4)\r\n",
        "print(mmagn5)\r\n",
        "print(mmagn6)"
      ],
      "execution_count": 119,
      "outputs": [
        {
          "output_type": "stream",
          "text": [
            "Using Math Library:\n",
            "5.0990195135927845\n",
            "10.198039027185569\n",
            "10.295630140987\n",
            "13.341664064126334\n",
            "13.038404810405298\n",
            "13.379088160259652\n"
          ],
          "name": "stdout"
        }
      ]
    },
    {
      "cell_type": "code",
      "metadata": {
        "colab": {
          "base_uri": "https://localhost:8080/"
        },
        "id": "2NRw_T4V3HJq",
        "outputId": "50b4394f-4c67-4cc1-af5c-45a52b740542"
      },
      "source": [
        "pmagn1 = np.linalg.norm(V1)\r\n",
        "pmagn2 = np.linalg.norm(V2)\r\n",
        "pmagn3 = np.linalg.norm(V3)\r\n",
        "pmagn4 = np.linalg.norm(V4)\r\n",
        "pmagn5 = np.linalg.norm(V5)\r\n",
        "pmagn6 = np.linalg.norm(V6)\r\n",
        "print(\"Using NumPy:\")\r\n",
        "print(pmagn1)\r\n",
        "print(pmagn2)\r\n",
        "print(pmagn3)\r\n",
        "print(pmagn4)\r\n",
        "print(pmagn5)\r\n",
        "print(pmagn6)"
      ],
      "execution_count": 120,
      "outputs": [
        {
          "output_type": "stream",
          "text": [
            "Using NumPy:\n",
            "5.0990195135927845\n",
            "10.198039027185569\n",
            "10.295630140987\n",
            "13.341664064126334\n",
            "13.038404810405298\n",
            "13.379088160259652\n"
          ],
          "name": "stdout"
        }
      ]
    },
    {
      "cell_type": "markdown",
      "metadata": {
        "id": "uXNqGjkK_rkw"
      },
      "source": [
        "### Task 2"
      ]
    },
    {
      "cell_type": "markdown",
      "metadata": {
        "id": "U1rHB4bA_uSL"
      },
      "source": [
        "Make an explicit function (not using any of NumPy's preset functions nor the `@` operator) solving the inner product of two vectors using the inner product formula: \r\n",
        "$$A\\cdot B = \\sum_{n=1}^{N} a_n \\times b_n $$\r\n",
        "$$whereas: N = len(A) = len(B)$$\r\n",
        "Create a program flowchart for your algorithm and explain it in your methodology. Create 5 distinct pairs vectors which their element count should not be lower than 5 elements. Explain the results at the results discussion section while comparing them to the `np.inner()` function."
      ]
    },
    {
      "cell_type": "code",
      "metadata": {
        "id": "PRej7MI7CQ-K"
      },
      "source": [
        "V7 = np.array([3,2,-3,-2,6])\r\n",
        "V8 = np.array([6,-4,-6,4,2])\r\n",
        "\r\n",
        "V9 = np.array([2,7,-2,-7,8])\r\n",
        "V10 = np.array([8,-5,-8,5,9])\r\n",
        "\r\n",
        "V11 = np.array([7,-3,-2,8,2])\r\n",
        "V12 = np.array([6,5,3,7,2])\r\n",
        "\r\n",
        "V13 = np.array([2,-2,4,9,2])\r\n",
        "V14 = np.array([7,4,-8,7,9])\r\n",
        "\r\n",
        "V15 = np.array([3,6,2,8,7])\r\n",
        "V16 = np.array([6,2,7,3,6])"
      ],
      "execution_count": 115,
      "outputs": []
    },
    {
      "cell_type": "code",
      "metadata": {
        "colab": {
          "base_uri": "https://localhost:8080/"
        },
        "id": "7PnuzfVuI2dY",
        "outputId": "cf2081cc-13aa-4b78-feae-92400ee2a861"
      },
      "source": [
        "mip1= sum(V7*V8)\r\n",
        "mip2= sum(V9*V10)\r\n",
        "mip3= sum(V11*V12)\r\n",
        "mip4= sum(V13*V14)\r\n",
        "mip5= sum(V15*V16)\r\n",
        "print(\"Using Python:\")\r\n",
        "print(mip1)\r\n",
        "print(mip2)\r\n",
        "print(mip3)\r\n",
        "print(mip4)\r\n",
        "print(mip5)"
      ],
      "execution_count": 116,
      "outputs": [
        {
          "output_type": "stream",
          "text": [
            "32\n",
            "34\n",
            "81\n",
            "55\n",
            "110\n"
          ],
          "name": "stdout"
        }
      ]
    },
    {
      "cell_type": "code",
      "metadata": {
        "colab": {
          "base_uri": "https://localhost:8080/"
        },
        "id": "GeAaNMTNDJyH",
        "outputId": "6e74fa2c-ab7d-48fb-98d5-4938f5edc5de"
      },
      "source": [
        "pip1 = np.inner(V7,V8)\r\n",
        "pip2 = np.inner(V9,V10)\r\n",
        "pip3 = np.inner(V11,V12)\r\n",
        "pip4 = np.inner(V13,V14)\r\n",
        "pip5 = np.inner(V15,V16)\r\n",
        "print(\"Using NumPy:\")\r\n",
        "print(pip1)\r\n",
        "print(pip2)\r\n",
        "print(pip3)\r\n",
        "print(pip4)\r\n",
        "print(pip5)\r\n"
      ],
      "execution_count": 118,
      "outputs": [
        {
          "output_type": "stream",
          "text": [
            "Using NumPy:\n",
            "32\n",
            "34\n",
            "81\n",
            "55\n",
            "110\n"
          ],
          "name": "stdout"
        }
      ]
    },
    {
      "cell_type": "markdown",
      "metadata": {
        "id": "jn7TSMFqnXPE"
      },
      "source": [
        "### Task 3"
      ]
    },
    {
      "cell_type": "markdown",
      "metadata": {
        "id": "srlaeRPQna-y"
      },
      "source": [
        "Code the following vector operation and solve them using the given vector values"
      ]
    },
    {
      "cell_type": "markdown",
      "metadata": {
        "id": "WPS5kFmZnhJj"
      },
      "source": [
        "$$ ((A^2 + B^2 + C^2) * (A * (B + A*B)./C))*||A + B + C||$$\r\n",
        "$$A = \\begin{bmatrix}-0.4\\\\4.3\\\\-0.6\\end{bmatrix}, B = \\begin{bmatrix}-0.2\\\\0.2\\\\1\\end{bmatrix}, C = \\begin{bmatrix}-0.2\\\\2.1\\\\-1.5\\end{bmatrix}$$"
      ]
    },
    {
      "cell_type": "markdown",
      "metadata": {
        "id": "9BiKd9QinlFa"
      },
      "source": [
        "Create a program flowchart for your algorithm and explain it in your methodology. In your results, compare your answer to the expected output, visualize, and explain the resulting vector using a 3D plot."
      ]
    },
    {
      "cell_type": "code",
      "metadata": {
        "id": "HEGsjseznah7"
      },
      "source": [
        "A = np.array([-0.4, 4.3, -0.6])\r\n",
        "B = np.array([-0.2, 0.2, 1])\r\n",
        "C = np.array([-0.2, 2.1, -1.5])"
      ],
      "execution_count": null,
      "outputs": []
    },
    {
      "cell_type": "code",
      "metadata": {
        "colab": {
          "base_uri": "https://localhost:8080/"
        },
        "id": "jqzb9Nh1MTpJ",
        "outputId": "848b4fb9-6a9c-40e7-cf80-b9ffbec95a01"
      },
      "source": [
        "R1 = A.dot(A) + B.dot(B) + C.dot(C)\r\n",
        "print(R1)"
      ],
      "execution_count": null,
      "outputs": [
        {
          "output_type": "stream",
          "text": [
            "[-43.32710846 391.83523878  28.88473897]\n"
          ],
          "name": "stdout"
        }
      ]
    },
    {
      "cell_type": "code",
      "metadata": {
        "colab": {
          "base_uri": "https://localhost:8080/"
        },
        "id": "JxHMygN7ckk7",
        "outputId": "49cfd060-84a9-4c1c-e536-47e281a46d90"
      },
      "source": [
        "R2 = (A*(B+A*B)/C)\r\n",
        "print(R2)"
      ],
      "execution_count": null,
      "outputs": [
        {
          "output_type": "stream",
          "text": [
            "[-0.24        2.17047619  0.16      ]\n"
          ],
          "name": "stdout"
        }
      ]
    },
    {
      "cell_type": "code",
      "metadata": {
        "colab": {
          "base_uri": "https://localhost:8080/"
        },
        "id": "Pwa1yGJdcw_I",
        "outputId": "6ea74f8c-b0f1-4faf-de56-a48611a3721e"
      },
      "source": [
        "R3 = np.linalg.norm(A+B+C)\r\n",
        "print(R3)"
      ],
      "execution_count": null,
      "outputs": [
        {
          "output_type": "stream",
          "text": [
            "6.738694235532578\n"
          ],
          "name": "stdout"
        }
      ]
    },
    {
      "cell_type": "code",
      "metadata": {
        "colab": {
          "base_uri": "https://localhost:8080/"
        },
        "id": "wI7PZpfUc83T",
        "outputId": "1a15c51a-3839-4b70-d9e1-f95c3fb845af"
      },
      "source": [
        "FA = R1*R2*R3\r\n",
        "print(FA)"
      ],
      "execution_count": null,
      "outputs": [
        {
          "output_type": "stream",
          "text": [
            "[-43.32710846 391.83523878  28.88473897]\n"
          ],
          "name": "stdout"
        }
      ]
    },
    {
      "cell_type": "code",
      "metadata": {
        "colab": {
          "base_uri": "https://localhost:8080/",
          "height": 248
        },
        "id": "bZhnxI-wYKHa",
        "outputId": "d498723c-7b1a-4613-ce1b-90f429658076"
      },
      "source": [
        "fig = plt.figure()\r\n",
        "plot1 = fig.gca(projection = '3d')\r\n",
        "plot1.quiver (0,0,0, FA[0],FA[1],FA[2],color='blue')\r\n",
        "plot1.set_xlim([-400,0])\r\n",
        "plot1.set_ylim([0,400])\r\n",
        "plot1.set_zlim([0,400])\r\n",
        "plt.show()"
      ],
      "execution_count": null,
      "outputs": [
        {
          "output_type": "display_data",
          "data": {
            "image/png": "[encoded data removed]",
            "text/plain": [
              "<Figure size 432x288 with 1 Axes>"
            ]
          },
          "metadata": {
            "tags": [],
            "needs_background": "light"
          }
        }
      ]
    }
  ]
}